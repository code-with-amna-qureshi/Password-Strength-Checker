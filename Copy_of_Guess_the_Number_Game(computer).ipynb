{
  "nbformat": 4,
  "nbformat_minor": 0,
  "metadata": {
    "colab": {
      "provenance": [],
      "authorship_tag": "ABX9TyMmzUp6fBWsosXQmVn+QKVo",
      "include_colab_link": true
    },
    "kernelspec": {
      "name": "python3",
      "display_name": "Python 3"
    },
    "language_info": {
      "name": "python"
    }
  },
  "cells": [
    {
      "cell_type": "markdown",
      "metadata": {
        "id": "view-in-github",
        "colab_type": "text"
      },
      "source": [
        "<a href=\"https://colab.research.google.com/github/code-with-amna-qureshi/Password-Strength-Checker/blob/main/Copy_of_Guess_the_Number_Game(computer).ipynb\" target=\"_parent\"><img src=\"https://colab.research.google.com/assets/colab-badge.svg\" alt=\"Open In Colab\"/></a>"
      ]
    },
    {
      "cell_type": "code",
      "execution_count": null,
      "metadata": {
        "colab": {
          "base_uri": "https://localhost:8080/"
        },
        "id": "kmUUNsqzPwFr",
        "outputId": "ccbf0321-68bc-4ff9-b2c5-0f4243448437"
      },
      "outputs": [
        {
          "output_type": "stream",
          "name": "stdout",
          "text": [
            "🎮 Welcome to the Guess the Number Game!\n",
            "I have selected a number between 1 and 100. Try to guess it!\n",
            "Enter your guess: 1\n",
            "📉 Too low! Try again.\n",
            "Enter your guess: 22\n",
            "📉 Too low! Try again.\n",
            "Enter your guess: 55\n",
            "📈 Too high! Try again.\n",
            "Enter your guess: 99\n",
            "📈 Too high! Try again.\n",
            "Enter your guess: 65\n",
            "📈 Too high! Try again.\n"
          ]
        }
      ],
      "source": [
        "import random\n",
        "\n",
        "def guess_the_number():\n",
        "    number_to_guess = random.randint(1, 100)\n",
        "    attempts = 0\n",
        "\n",
        "    print(\"🎮 Welcome to the Guess the Number Game!\")\n",
        "    print(\"I have selected a number between 1 and 100. Try to guess it!\")\n",
        "\n",
        "    while True:\n",
        "        try:\n",
        "            user_guess = int(input(\"Enter your guess: \"))\n",
        "            attempts += 1\n",
        "\n",
        "            if user_guess < number_to_guess:\n",
        "                print(\"📉 Too low! Try again.\")\n",
        "            elif user_guess > number_to_guess:\n",
        "                print(\"📈 Too high! Try again.\")\n",
        "            else:\n",
        "                print(f\"🎉 Congratulations! You guessed the number {number_to_guess} in {attempts} attempts.\")\n",
        "                break\n",
        "        except ValueError:\n",
        "            print(\"⚠ Please enter a valid number.\")\n",
        "\n",
        "guess_the_number()\n"
      ]
    }
  ]
}